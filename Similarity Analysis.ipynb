{
 "cells": [
  {
   "cell_type": "code",
   "execution_count": 1,
   "metadata": {
    "collapsed": true
   },
   "outputs": [],
   "source": [
    "import json"
   ]
  },
  {
   "cell_type": "code",
   "execution_count": 2,
   "metadata": {
    "collapsed": true
   },
   "outputs": [],
   "source": [
    "with open('output/levenshtein_dict.json','r') as out:\n",
    "    for line in out:\n",
    "        data_1 = json.loads(line)"
   ]
  },
  {
   "cell_type": "code",
   "execution_count": 3,
   "metadata": {
    "collapsed": true
   },
   "outputs": [],
   "source": [
    "with open('output/levenshtein_dict.json','r') as out:\n",
    "    for line in out:\n",
    "        data_2 = json.loads(line)"
   ]
  },
  {
   "cell_type": "code",
   "execution_count": 4,
   "metadata": {},
   "outputs": [
    {
     "name": "stdout",
     "output_type": "stream",
     "text": [
      "(401, 401)\n"
     ]
    }
   ],
   "source": [
    "print(len(data_1),len(data_2))"
   ]
  },
  {
   "cell_type": "code",
   "execution_count": 5,
   "metadata": {},
   "outputs": [
    {
     "name": "stdout",
     "output_type": "stream",
     "text": [
      "(253, 148)\n"
     ]
    }
   ],
   "source": [
    "filterTrue1 = [d for d in data_1 if d['is_correct'] == True]\n",
    "filterFalse1 = [d for d in data_1 if d['is_correct'] == False]\n",
    "print(len(filterTrue1), len(filterFalse1))"
   ]
  },
  {
   "cell_type": "code",
   "execution_count": 6,
   "metadata": {},
   "outputs": [
    {
     "name": "stdout",
     "output_type": "stream",
     "text": [
      "(255, 146)\n"
     ]
    }
   ],
   "source": [
    "filterTrue2 = [d for d in data_2 if d['is_correct'] == True]\n",
    "filterFalse2 = [d for d in data_2 if d['is_correct'] == False]\n",
    "print(len(filterTrue2), len(filterFalse2))"
   ]
  },
  {
   "cell_type": "code",
   "execution_count": 15,
   "metadata": {
    "collapsed": true
   },
   "outputs": [],
   "source": [
    "with open('output/jaro_winkler_words.json','r') as out:\n",
    "    for line in out:\n",
    "        data_3 = json.loads(line)"
   ]
  },
  {
   "cell_type": "code",
   "execution_count": 18,
   "metadata": {
    "collapsed": true
   },
   "outputs": [],
   "source": [
    "with open('output/lavenshtein_words.json','r') as out:\n",
    "    for line in out:\n",
    "        data_4 = json.loads(line)"
   ]
  },
  {
   "cell_type": "code",
   "execution_count": 19,
   "metadata": {},
   "outputs": [
    {
     "name": "stdout",
     "output_type": "stream",
     "text": [
      "(101, 101)\n"
     ]
    }
   ],
   "source": [
    "print(len(data_3), len(data_4))"
   ]
  },
  {
   "cell_type": "code",
   "execution_count": 20,
   "metadata": {},
   "outputs": [
    {
     "name": "stdout",
     "output_type": "stream",
     "text": [
      "(49, 52)\n"
     ]
    }
   ],
   "source": [
    "filterTrue3 = [d for d in data_3 if d['is_correct'] == True]\n",
    "filterFalse3 = [d for d in data_3 if d['is_correct'] == False]\n",
    "print(len(filterTrue3), len(filterFalse3))"
   ]
  },
  {
   "cell_type": "code",
   "execution_count": 21,
   "metadata": {},
   "outputs": [
    {
     "name": "stdout",
     "output_type": "stream",
     "text": [
      "(71, 30)\n"
     ]
    }
   ],
   "source": [
    "filterTrue4 = [d for d in data_4 if d['is_correct'] == True]\n",
    "filterFalse4 = [d for d in data_4 if d['is_correct'] == False]\n",
    "print(len(filterTrue4), len(filterFalse4))"
   ]
  },
  {
   "cell_type": "code",
   "execution_count": null,
   "metadata": {
    "collapsed": true
   },
   "outputs": [],
   "source": []
  }
 ],
 "metadata": {
  "kernelspec": {
   "display_name": "Python 3",
   "language": "python",
   "name": "python3"
  },
  "language_info": {
   "codemirror_mode": {
    "name": "ipython",
    "version": 3
   },
   "file_extension": ".py",
   "mimetype": "text/x-python",
   "name": "python",
   "nbconvert_exporter": "python",
   "pygments_lexer": "ipython3",
   "version": "3.5.2"
  }
 },
 "nbformat": 4,
 "nbformat_minor": 2
}
