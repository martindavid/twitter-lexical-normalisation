{
 "cells": [
  {
   "cell_type": "code",
   "execution_count": 127,
   "metadata": {},
   "outputs": [],
   "source": [
    "import json\n",
    "import pandas as pd\n",
    "import numpy as np\n",
    "import matplotlib.pyplot as plt"
   ]
  },
  {
   "cell_type": "code",
   "execution_count": 50,
   "metadata": {
    "collapsed": true
   },
   "outputs": [],
   "source": [
    "with open('output/levenshtein.json','r') as out:\n",
    "    for line in out:\n",
    "        data_1 = json.loads(line)"
   ]
  },
  {
   "cell_type": "code",
   "execution_count": 51,
   "metadata": {
    "collapsed": true
   },
   "outputs": [],
   "source": [
    "with open('output/levenshtein_soundex.json','r') as out:\n",
    "    for line in out:\n",
    "        data_2 = json.loads(line)"
   ]
  },
  {
   "cell_type": "code",
   "execution_count": 52,
   "metadata": {
    "collapsed": true
   },
   "outputs": [],
   "source": [
    "with open('output/levenshtein_metaphone.json','r') as out:\n",
    "    for line in out:\n",
    "        data_3 = json.loads(line)"
   ]
  },
  {
   "cell_type": "code",
   "execution_count": 53,
   "metadata": {
    "collapsed": true
   },
   "outputs": [],
   "source": [
    "levenshtein = pd.DataFrame(data_1)\n",
    "levenshtein_soundex = pd.DataFrame(data_2)\n",
    "levenshtein_metaphone = pd.DataFrame(data_3)"
   ]
  },
  {
   "cell_type": "code",
   "execution_count": 111,
   "metadata": {},
   "outputs": [],
   "source": [
    "# Count candidates length for each token\n",
    "levenshtein['candidate_len'] = levenshtein_soundex.candidates.str.len()\n",
    "levenshtein_soundex['candidate_len'] = levenshtein_soundex.candidates.str.len()\n",
    "levenshtein_metaphone['candidate_len'] = levenshtein_metaphone.candidates.str.len()"
   ]
  },
  {
   "cell_type": "code",
   "execution_count": 121,
   "metadata": {},
   "outputs": [],
   "source": [
    "def compute_analysis(ds_1, part):\n",
    "    candidates = ds_1.query('candidate_len > 0')\n",
    "    is_correct = candidates.query('is_correct == True')\n",
    "    \n",
    "    precision = float(is_correct.token.count()) / float(candidates.token.count())\n",
    "    recall = float(is_correct.token.count()) / float(ds_1.token.count())\n",
    "    \n",
    "    mean = candidates.candidate_len.mean()\n",
    "    maximum = candidates.candidate_len.max()\n",
    "    \n",
    "    result = {\n",
    "        \"part\": part,\n",
    "        \"precision\": precision,\n",
    "        \"recall\": recall,\n",
    "        \"mean\": mean,\n",
    "        \"max\": maximum\n",
    "    }\n",
    "    \n",
    "    return result"
   ]
  },
  {
   "cell_type": "code",
   "execution_count": 125,
   "metadata": {},
   "outputs": [
    {
     "data": {
      "text/html": [
       "<div>\n",
       "<style>\n",
       "    .dataframe thead tr:only-child th {\n",
       "        text-align: right;\n",
       "    }\n",
       "\n",
       "    .dataframe thead th {\n",
       "        text-align: left;\n",
       "    }\n",
       "\n",
       "    .dataframe tbody tr th {\n",
       "        vertical-align: top;\n",
       "    }\n",
       "</style>\n",
       "<table border=\"1\" class=\"dataframe\">\n",
       "  <thead>\n",
       "    <tr style=\"text-align: right;\">\n",
       "      <th></th>\n",
       "      <th>part</th>\n",
       "      <th>precision</th>\n",
       "      <th>recall</th>\n",
       "      <th>max</th>\n",
       "      <th>mean</th>\n",
       "    </tr>\n",
       "  </thead>\n",
       "  <tbody>\n",
       "    <tr>\n",
       "      <th>0</th>\n",
       "      <td>levenshtein</td>\n",
       "      <td>0.851095</td>\n",
       "      <td>0.727840</td>\n",
       "      <td>6</td>\n",
       "      <td>1.230657</td>\n",
       "    </tr>\n",
       "    <tr>\n",
       "      <th>1</th>\n",
       "      <td>levenshtein_soundex</td>\n",
       "      <td>0.849635</td>\n",
       "      <td>0.726592</td>\n",
       "      <td>6</td>\n",
       "      <td>1.230657</td>\n",
       "    </tr>\n",
       "    <tr>\n",
       "      <th>2</th>\n",
       "      <td>levenshtein_metaphone</td>\n",
       "      <td>0.852290</td>\n",
       "      <td>0.720350</td>\n",
       "      <td>4</td>\n",
       "      <td>1.149188</td>\n",
       "    </tr>\n",
       "  </tbody>\n",
       "</table>\n",
       "</div>"
      ],
      "text/plain": [
       "                    part  precision    recall  max      mean\n",
       "0            levenshtein   0.851095  0.727840    6  1.230657\n",
       "1    levenshtein_soundex   0.849635  0.726592    6  1.230657\n",
       "2  levenshtein_metaphone   0.852290  0.720350    4  1.149188"
      ]
     },
     "execution_count": 125,
     "metadata": {},
     "output_type": "execute_result"
    }
   ],
   "source": [
    "# combine analysis\n",
    "combine_results = []\n",
    "combine_results.append(compute_analysis(levenshtein, \"levenshtein\"))\n",
    "combine_results.append(compute_analysis(levenshtein_soundex, \"levenshtein_soundex\"))\n",
    "combine_results.append(compute_analysis(levenshtein_metaphone, \"levenshtein_metaphone\"))\n",
    "\n",
    "combine_results = pd.DataFrame(combine_results)\n",
    "combine_results[['part','precision','recall','max', 'mean']]"
   ]
  },
  {
   "cell_type": "code",
   "execution_count": 152,
   "metadata": {},
   "outputs": [
    {
     "data": {
      "image/png": "[encoded data removed]",
      "text/plain": [
       "<matplotlib.figure.Figure at 0x10c60a310>"
      ]
     },
     "metadata": {},
     "output_type": "display_data"
    }
   ],
   "source": [
    "rects = combine_results[['part','precision', 'recall']].plot(kind='barh', legend=True, figsize=(10, 8));\n",
    "rects.set_yticklabels(('Levenshtein','Levenshtein_Soundex','Levenshtein_Metaphone'))\n",
    "plt.show()"
   ]
  },
  {
   "cell_type": "code",
   "execution_count": 119,
   "metadata": {},
   "outputs": [
    {
     "data": {
      "text/plain": [
       "{'max': 4,\n",
       " 'mean': 1.1491875923190547,\n",
       " 'precision': 0.8522895125553914,\n",
       " 'recall': 0.7203495630461922}"
      ]
     },
     "execution_count": 119,
     "metadata": {},
     "output_type": "execute_result"
    }
   ],
   "source": []
  },
  {
   "cell_type": "code",
   "execution_count": null,
   "metadata": {},
   "outputs": [],
   "source": []
  },
  {
   "cell_type": "code",
   "execution_count": null,
   "metadata": {
    "collapsed": true
   },
   "outputs": [],
   "source": []
  }
 ],
 "metadata": {
  "kernelspec": {
   "display_name": "Python 2",
   "language": "python",
   "name": "python2"
  },
  "language_info": {
   "codemirror_mode": {
    "name": "ipython",
    "version": 2
   },
   "file_extension": ".py",
   "mimetype": "text/x-python",
   "name": "python",
   "nbconvert_exporter": "python",
   "pygments_lexer": "ipython2",
   "version": "2.7.13"
  }
 },
 "nbformat": 4,
 "nbformat_minor": 2
}
