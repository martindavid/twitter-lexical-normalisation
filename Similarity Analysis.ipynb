{
 "cells": [
  {
   "cell_type": "code",
   "execution_count": 62,
   "metadata": {
    "collapsed": true
   },
   "outputs": [],
   "source": [
    "import json\n",
    "import automata\n",
    "import bisect\n",
    "from matcher import Matcher"
   ]
  },
  {
   "cell_type": "code",
   "execution_count": 71,
   "metadata": {},
   "outputs": [],
   "source": [
    "with open('output/distance_result.json','r') as out:\n",
    "    for line in out:\n",
    "        data = json.loads(line)"
   ]
  },
  {
   "cell_type": "code",
   "execution_count": 85,
   "metadata": {
    "collapsed": true
   },
   "outputs": [],
   "source": [
    "filterTrue = [d for d in data if d['is_correct'] == True]\n",
    "filterFalse = [d for d in data if d['is_correct'] == False]"
   ]
  },
  {
   "cell_type": "code",
   "execution_count": 86,
   "metadata": {},
   "outputs": [
    {
     "name": "stdout",
     "output_type": "stream",
     "text": [
      "(401, 304, 97)\n"
     ]
    }
   ],
   "source": [
    "print(len(data),len(filterTrue), len(filterFalse))"
   ]
  },
  {
   "cell_type": "code",
   "execution_count": 92,
   "metadata": {
    "collapsed": true
   },
   "outputs": [],
   "source": [
    "with open('output/automaton_result.json','r') as out:\n",
    "    for line in out:\n",
    "        automaton_data = json.loads(line)"
   ]
  },
  {
   "cell_type": "code",
   "execution_count": 93,
   "metadata": {
    "collapsed": true
   },
   "outputs": [],
   "source": [
    "filterTrue2 = [d for d in automaton_data if d['is_match'] == True]\n",
    "filterFalse2 = [d for d in automaton_data if d['is_match'] == False]"
   ]
  },
  {
   "cell_type": "code",
   "execution_count": 94,
   "metadata": {},
   "outputs": [
    {
     "name": "stdout",
     "output_type": "stream",
     "text": [
      "(401, 315, 86)\n"
     ]
    }
   ],
   "source": [
    "print(len(data),len(filterTrue2), len(filterFalse2))"
   ]
  },
  {
   "cell_type": "code",
   "execution_count": 89,
   "metadata": {
    "collapsed": true
   },
   "outputs": [],
   "source": [
    "with open('output/distance_result_2.json','r') as out:\n",
    "    for line in out:\n",
    "        data_2 = json.loads(line)"
   ]
  },
  {
   "cell_type": "code",
   "execution_count": 95,
   "metadata": {
    "collapsed": true
   },
   "outputs": [],
   "source": [
    "filterTrue3 = [d for d in data_2 if d['is_correct'] == True]\n",
    "filterFalse3 = [d for d in data_2 if d['is_correct'] == False]"
   ]
  },
  {
   "cell_type": "code",
   "execution_count": 91,
   "metadata": {},
   "outputs": [
    {
     "name": "stdout",
     "output_type": "stream",
     "text": [
      "(401, 307, 94)\n"
     ]
    }
   ],
   "source": [
    "print(len(data_2),len(filterTrue3), len(filterFalse3))"
   ]
  },
  {
   "cell_type": "code",
   "execution_count": null,
   "metadata": {
    "collapsed": true
   },
   "outputs": [],
   "source": []
  }
 ],
 "metadata": {
  "kernelspec": {
   "display_name": "Python 2",
   "language": "python",
   "name": "python2"
  },
  "language_info": {
   "codemirror_mode": {
    "name": "ipython",
    "version": 2
   },
   "file_extension": ".py",
   "mimetype": "text/x-python",
   "name": "python",
   "nbconvert_exporter": "python",
   "pygments_lexer": "ipython2",
   "version": "2.7.13"
  }
 },
 "nbformat": 4,
 "nbformat_minor": 2
}
