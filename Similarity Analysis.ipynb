{
 "cells": [
  {
   "cell_type": "code",
   "execution_count": 249,
   "metadata": {
    "collapsed": true
   },
   "outputs": [],
   "source": [
    "import json\n",
    "import pandas as pd\n",
    "import numpy as np\n",
    "import matplotlib.pyplot as plt"
   ]
  },
  {
   "cell_type": "code",
   "execution_count": 261,
   "metadata": {
    "collapsed": true
   },
   "outputs": [],
   "source": [
    "with open('output_new/levenshtein_500.json','r') as out:\n",
    "    for line in out:\n",
    "        data_1 = json.loads(line)\n",
    "        \n",
    "with open('output_new/levenshtein_soundex_500.json','r') as out:\n",
    "    for line in out:\n",
    "        data_2 = json.loads(line)\n",
    "        \n",
    "with open('output_new/levenshtein_metaphone_500.json','r') as out:\n",
    "    for line in out:\n",
    "        data_3 = json.loads(line)"
   ]
  },
  {
   "cell_type": "code",
   "execution_count": 251,
   "metadata": {
    "collapsed": true
   },
   "outputs": [],
   "source": [
    "levenshtein = pd.DataFrame(data_1)\n",
    "levenshtein_soundex = pd.DataFrame(data_2)\n",
    "levenshtein_metaphone = pd.DataFrame(data_3)"
   ]
  },
  {
   "cell_type": "code",
   "execution_count": 252,
   "metadata": {},
   "outputs": [
    {
     "data": {
      "text/plain": [
       "(501, 501, 501)"
      ]
     },
     "execution_count": 252,
     "metadata": {},
     "output_type": "execute_result"
    }
   ],
   "source": [
    "levenshtein.token.count(),levenshtein_soundex.token.count(),levenshtein_metaphone.token.count()"
   ]
  },
  {
   "cell_type": "code",
   "execution_count": 253,
   "metadata": {},
   "outputs": [],
   "source": [
    "def compute_analysis(ds_1, part):\n",
    "    candidates = ds_1.query('candidates_len > 0')\n",
    "    is_correct = candidates.query('is_correct == True')\n",
    "    \n",
    "    precision = float(is_correct.token.count()) / float(candidates.candidates_len.sum())\n",
    "    recall = float(is_correct.token.count()) / float(ds_1.token.count())\n",
    "    \n",
    "    mean = candidates.candidates_len.mean()\n",
    "    maximum = candidates.candidates_len.max()\n",
    "    \n",
    "    result = {\n",
    "        \"part\": part,\n",
    "        \"precision\": precision,\n",
    "        \"recall\": recall,\n",
    "        \"mean\": mean,\n",
    "        \"max\": maximum\n",
    "    }\n",
    "    \n",
    "    return result"
   ]
  },
  {
   "cell_type": "code",
   "execution_count": 254,
   "metadata": {},
   "outputs": [
    {
     "data": {
      "text/html": [
       "<div>\n",
       "<style>\n",
       "    .dataframe thead tr:only-child th {\n",
       "        text-align: right;\n",
       "    }\n",
       "\n",
       "    .dataframe thead th {\n",
       "        text-align: left;\n",
       "    }\n",
       "\n",
       "    .dataframe tbody tr th {\n",
       "        vertical-align: top;\n",
       "    }\n",
       "</style>\n",
       "<table border=\"1\" class=\"dataframe\">\n",
       "  <thead>\n",
       "    <tr style=\"text-align: right;\">\n",
       "      <th></th>\n",
       "      <th>part</th>\n",
       "      <th>precision</th>\n",
       "      <th>recall</th>\n",
       "      <th>max</th>\n",
       "      <th>mean</th>\n",
       "    </tr>\n",
       "  </thead>\n",
       "  <tbody>\n",
       "    <tr>\n",
       "      <th>0</th>\n",
       "      <td>levenshtein</td>\n",
       "      <td>0.006074</td>\n",
       "      <td>0.269461</td>\n",
       "      <td>364</td>\n",
       "      <td>46.016563</td>\n",
       "    </tr>\n",
       "    <tr>\n",
       "      <th>1</th>\n",
       "      <td>levenshtein_soundex</td>\n",
       "      <td>0.051597</td>\n",
       "      <td>0.209581</td>\n",
       "      <td>32</td>\n",
       "      <td>4.452954</td>\n",
       "    </tr>\n",
       "    <tr>\n",
       "      <th>2</th>\n",
       "      <td>levenshtein_metaphone</td>\n",
       "      <td>0.055970</td>\n",
       "      <td>0.179641</td>\n",
       "      <td>22</td>\n",
       "      <td>3.765808</td>\n",
       "    </tr>\n",
       "  </tbody>\n",
       "</table>\n",
       "</div>"
      ],
      "text/plain": [
       "                    part  precision    recall  max       mean\n",
       "0            levenshtein   0.006074  0.269461  364  46.016563\n",
       "1    levenshtein_soundex   0.051597  0.209581   32   4.452954\n",
       "2  levenshtein_metaphone   0.055970  0.179641   22   3.765808"
      ]
     },
     "execution_count": 254,
     "metadata": {},
     "output_type": "execute_result"
    }
   ],
   "source": [
    "# combine analysis\n",
    "combine_results = []\n",
    "combine_results.append(compute_analysis(levenshtein, \"levenshtein\"))\n",
    "combine_results.append(compute_analysis(levenshtein_soundex, \"levenshtein_soundex\"))\n",
    "combine_results.append(compute_analysis(levenshtein_metaphone, \"levenshtein_metaphone\"))\n",
    "\n",
    "combine_results = pd.DataFrame(combine_results)\n",
    "combine_results[['part','precision','recall','max', 'mean']]"
   ]
  },
  {
   "cell_type": "code",
   "execution_count": 255,
   "metadata": {},
   "outputs": [
    {
     "data": {
      "image/png": "[encoded data removed]",
      "text/plain": [
       "<matplotlib.figure.Figure at 0x10bf98b90>"
      ]
     },
     "metadata": {},
     "output_type": "display_data"
    }
   ],
   "source": [
    "rects = combine_results[['part','precision', 'recall']].plot(kind='barh', legend=True, figsize=(8, 5));\n",
    "rects.set_yticklabels(('Levenshtein','Levenshtein_Soundex','Levenshtein_Metaphone'))\n",
    "plt.show()"
   ]
  },
  {
   "cell_type": "code",
   "execution_count": 256,
   "metadata": {},
   "outputs": [
    {
     "data": {
      "text/plain": [
       "(135, 105, 90)"
      ]
     },
     "execution_count": 256,
     "metadata": {},
     "output_type": "execute_result"
    }
   ],
   "source": [
    "iscorrect_1 = levenshtein.query('is_correct==True').token.count()\n",
    "iscorrect_2 = levenshtein_soundex.query('is_correct==True').token.count()\n",
    "iscorrect_3 = levenshtein_metaphone.query('is_correct==True').token.count()\n",
    "\n",
    "iscorrect_1, iscorrect_2, iscorrect_3"
   ]
  },
  {
   "cell_type": "code",
   "execution_count": 257,
   "metadata": {},
   "outputs": [
    {
     "data": {
      "text/html": [
       "<div>\n",
       "<style>\n",
       "    .dataframe thead tr:only-child th {\n",
       "        text-align: right;\n",
       "    }\n",
       "\n",
       "    .dataframe thead th {\n",
       "        text-align: left;\n",
       "    }\n",
       "\n",
       "    .dataframe tbody tr th {\n",
       "        vertical-align: top;\n",
       "    }\n",
       "</style>\n",
       "<table border=\"1\" class=\"dataframe\">\n",
       "  <thead>\n",
       "    <tr style=\"text-align: right;\">\n",
       "      <th></th>\n",
       "      <th>token</th>\n",
       "      <th>canonical</th>\n",
       "      <th>candidates</th>\n",
       "      <th>candidates_len</th>\n",
       "    </tr>\n",
       "  </thead>\n",
       "  <tbody>\n",
       "    <tr>\n",
       "      <th>0</th>\n",
       "      <td>pix</td>\n",
       "      <td>pictures</td>\n",
       "      <td>[aax, ai, aia, aic, aid, aif, aih, aik, ail, a...</td>\n",
       "      <td>44</td>\n",
       "    </tr>\n",
       "    <tr>\n",
       "      <th>1</th>\n",
       "      <td>comming</td>\n",
       "      <td>coming</td>\n",
       "      <td>[bamming, bombing, booming, bumming, caaming, ...</td>\n",
       "      <td>22</td>\n",
       "    </tr>\n",
       "    <tr>\n",
       "      <th>2</th>\n",
       "      <td>tomoroe</td>\n",
       "      <td>tomorrow</td>\n",
       "      <td>[pomorze, tofore, tomolo, tomorn, tomorrow, to...</td>\n",
       "      <td>9</td>\n",
       "    </tr>\n",
       "    <tr>\n",
       "      <th>3</th>\n",
       "      <td>dang</td>\n",
       "      <td>dang</td>\n",
       "      <td>[aag, aani, adan, adana, afg, ag, alang, alg, ...</td>\n",
       "      <td>26</td>\n",
       "    </tr>\n",
       "    <tr>\n",
       "      <th>4</th>\n",
       "      <td>effin</td>\n",
       "      <td>fucking</td>\n",
       "      <td>[affine, affing, affix, alfin, baffin, beefin,...</td>\n",
       "      <td>21</td>\n",
       "    </tr>\n",
       "    <tr>\n",
       "      <th>5</th>\n",
       "      <td>greenbay</td>\n",
       "      <td>greenbay</td>\n",
       "      <td>[greenaway, greenback, green-bag, greenbank, g...</td>\n",
       "      <td>14</td>\n",
       "    </tr>\n",
       "    <tr>\n",
       "      <th>6</th>\n",
       "      <td>nd</td>\n",
       "      <td>and</td>\n",
       "      <td>[2, &amp;c, 2d, 2nd, 3d, ad, and, bd, cd, cnd, d, ...</td>\n",
       "      <td>37</td>\n",
       "    </tr>\n",
       "    <tr>\n",
       "      <th>7</th>\n",
       "      <td>hve</td>\n",
       "      <td>have</td>\n",
       "      <td>[aae, abe, ace, ade, ae, age, ahe, aye, ake, a...</td>\n",
       "      <td>42</td>\n",
       "    </tr>\n",
       "    <tr>\n",
       "      <th>8</th>\n",
       "      <td>huyy</td>\n",
       "      <td>huyy</td>\n",
       "      <td>[audy, augy, buy, buys, buoy, bury, busy, cuya...</td>\n",
       "      <td>72</td>\n",
       "    </tr>\n",
       "    <tr>\n",
       "      <th>9</th>\n",
       "      <td>effin</td>\n",
       "      <td>fucking</td>\n",
       "      <td>[affine, affing, affix, alfin, baffin, beefin,...</td>\n",
       "      <td>21</td>\n",
       "    </tr>\n",
       "  </tbody>\n",
       "</table>\n",
       "</div>"
      ],
      "text/plain": [
       "      token canonical                                         candidates  \\\n",
       "0       pix  pictures  [aax, ai, aia, aic, aid, aif, aih, aik, ail, a...   \n",
       "1   comming    coming  [bamming, bombing, booming, bumming, caaming, ...   \n",
       "2   tomoroe  tomorrow  [pomorze, tofore, tomolo, tomorn, tomorrow, to...   \n",
       "3      dang      dang  [aag, aani, adan, adana, afg, ag, alang, alg, ...   \n",
       "4     effin   fucking  [affine, affing, affix, alfin, baffin, beefin,...   \n",
       "5  greenbay  greenbay  [greenaway, greenback, green-bag, greenbank, g...   \n",
       "6        nd       and  [2, &c, 2d, 2nd, 3d, ad, and, bd, cd, cnd, d, ...   \n",
       "7       hve      have  [aae, abe, ace, ade, ae, age, ahe, aye, ake, a...   \n",
       "8      huyy      huyy  [audy, augy, buy, buys, buoy, bury, busy, cuya...   \n",
       "9     effin   fucking  [affine, affing, affix, alfin, baffin, beefin,...   \n",
       "\n",
       "   candidates_len  \n",
       "0              44  \n",
       "1              22  \n",
       "2               9  \n",
       "3              26  \n",
       "4              21  \n",
       "5              14  \n",
       "6              37  \n",
       "7              42  \n",
       "8              72  \n",
       "9              21  "
      ]
     },
     "execution_count": 257,
     "metadata": {},
     "output_type": "execute_result"
    }
   ],
   "source": [
    "levenshtein[:10][['token','canonical','candidates','candidates_len']]"
   ]
  },
  {
   "cell_type": "code",
   "execution_count": 258,
   "metadata": {},
   "outputs": [
    {
     "data": {
      "text/html": [
       "<div>\n",
       "<style>\n",
       "    .dataframe thead tr:only-child th {\n",
       "        text-align: right;\n",
       "    }\n",
       "\n",
       "    .dataframe thead th {\n",
       "        text-align: left;\n",
       "    }\n",
       "\n",
       "    .dataframe tbody tr th {\n",
       "        vertical-align: top;\n",
       "    }\n",
       "</style>\n",
       "<table border=\"1\" class=\"dataframe\">\n",
       "  <thead>\n",
       "    <tr style=\"text-align: right;\">\n",
       "      <th></th>\n",
       "      <th>token</th>\n",
       "      <th>canonical</th>\n",
       "      <th>candidates</th>\n",
       "      <th>candidates_len</th>\n",
       "    </tr>\n",
       "  </thead>\n",
       "  <tbody>\n",
       "    <tr>\n",
       "      <th>0</th>\n",
       "      <td>pix</td>\n",
       "      <td>pictures</td>\n",
       "      <td>[pax, pbx, pex, pfx, pic, pig, pik, pis, pix]</td>\n",
       "      <td>9</td>\n",
       "    </tr>\n",
       "    <tr>\n",
       "      <th>1</th>\n",
       "      <td>comming</td>\n",
       "      <td>coming</td>\n",
       "      <td>[caaming, chiming, chumming, coaming, coming, ...</td>\n",
       "      <td>7</td>\n",
       "    </tr>\n",
       "    <tr>\n",
       "      <th>2</th>\n",
       "      <td>tomoroe</td>\n",
       "      <td>tomorrow</td>\n",
       "      <td>[tomorrow]</td>\n",
       "      <td>1</td>\n",
       "    </tr>\n",
       "    <tr>\n",
       "      <th>3</th>\n",
       "      <td>dang</td>\n",
       "      <td>dang</td>\n",
       "      <td>[dang]</td>\n",
       "      <td>1</td>\n",
       "    </tr>\n",
       "    <tr>\n",
       "      <th>4</th>\n",
       "      <td>effin</td>\n",
       "      <td>fucking</td>\n",
       "      <td>[]</td>\n",
       "      <td>0</td>\n",
       "    </tr>\n",
       "    <tr>\n",
       "      <th>5</th>\n",
       "      <td>greenbay</td>\n",
       "      <td>greenbay</td>\n",
       "      <td>[greenback, green-bag, greenbank, greenbark, g...</td>\n",
       "      <td>7</td>\n",
       "    </tr>\n",
       "    <tr>\n",
       "      <th>6</th>\n",
       "      <td>nd</td>\n",
       "      <td>and</td>\n",
       "      <td>[nad, nd]</td>\n",
       "      <td>2</td>\n",
       "    </tr>\n",
       "    <tr>\n",
       "      <th>7</th>\n",
       "      <td>hve</td>\n",
       "      <td>have</td>\n",
       "      <td>[have, hfe, hive, hove, hv, hvy]</td>\n",
       "      <td>6</td>\n",
       "    </tr>\n",
       "    <tr>\n",
       "      <th>8</th>\n",
       "      <td>huyy</td>\n",
       "      <td>huyy</td>\n",
       "      <td>[hay, haya, haye, hayey, hey, hy, hye, hyo, ho...</td>\n",
       "      <td>17</td>\n",
       "    </tr>\n",
       "    <tr>\n",
       "      <th>9</th>\n",
       "      <td>effin</td>\n",
       "      <td>fucking</td>\n",
       "      <td>[]</td>\n",
       "      <td>0</td>\n",
       "    </tr>\n",
       "  </tbody>\n",
       "</table>\n",
       "</div>"
      ],
      "text/plain": [
       "      token canonical                                         candidates  \\\n",
       "0       pix  pictures      [pax, pbx, pex, pfx, pic, pig, pik, pis, pix]   \n",
       "1   comming    coming  [caaming, chiming, chumming, coaming, coming, ...   \n",
       "2   tomoroe  tomorrow                                         [tomorrow]   \n",
       "3      dang      dang                                             [dang]   \n",
       "4     effin   fucking                                                 []   \n",
       "5  greenbay  greenbay  [greenback, green-bag, greenbank, greenbark, g...   \n",
       "6        nd       and                                          [nad, nd]   \n",
       "7       hve      have                   [have, hfe, hive, hove, hv, hvy]   \n",
       "8      huyy      huyy  [hay, haya, haye, hayey, hey, hy, hye, hyo, ho...   \n",
       "9     effin   fucking                                                 []   \n",
       "\n",
       "   candidates_len  \n",
       "0               9  \n",
       "1               7  \n",
       "2               1  \n",
       "3               1  \n",
       "4               0  \n",
       "5               7  \n",
       "6               2  \n",
       "7               6  \n",
       "8              17  \n",
       "9               0  "
      ]
     },
     "execution_count": 258,
     "metadata": {},
     "output_type": "execute_result"
    }
   ],
   "source": [
    "levenshtein_soundex[:10][['token','canonical','candidates','candidates_len']]"
   ]
  },
  {
   "cell_type": "code",
   "execution_count": 259,
   "metadata": {},
   "outputs": [
    {
     "data": {
      "text/html": [
       "<div>\n",
       "<style>\n",
       "    .dataframe thead tr:only-child th {\n",
       "        text-align: right;\n",
       "    }\n",
       "\n",
       "    .dataframe thead th {\n",
       "        text-align: left;\n",
       "    }\n",
       "\n",
       "    .dataframe tbody tr th {\n",
       "        vertical-align: top;\n",
       "    }\n",
       "</style>\n",
       "<table border=\"1\" class=\"dataframe\">\n",
       "  <thead>\n",
       "    <tr style=\"text-align: right;\">\n",
       "      <th></th>\n",
       "      <th>token</th>\n",
       "      <th>canonical</th>\n",
       "      <th>candidates</th>\n",
       "      <th>candidates_len</th>\n",
       "    </tr>\n",
       "  </thead>\n",
       "  <tbody>\n",
       "    <tr>\n",
       "      <th>0</th>\n",
       "      <td>pix</td>\n",
       "      <td>pictures</td>\n",
       "      <td>[pax, pex, pix]</td>\n",
       "      <td>3</td>\n",
       "    </tr>\n",
       "    <tr>\n",
       "      <th>1</th>\n",
       "      <td>comming</td>\n",
       "      <td>coming</td>\n",
       "      <td>[caaming, coaming, coming, commaing, cumming]</td>\n",
       "      <td>5</td>\n",
       "    </tr>\n",
       "    <tr>\n",
       "      <th>2</th>\n",
       "      <td>tomoroe</td>\n",
       "      <td>tomorrow</td>\n",
       "      <td>[]</td>\n",
       "      <td>0</td>\n",
       "    </tr>\n",
       "    <tr>\n",
       "      <th>3</th>\n",
       "      <td>dang</td>\n",
       "      <td>dang</td>\n",
       "      <td>[dang]</td>\n",
       "      <td>1</td>\n",
       "    </tr>\n",
       "    <tr>\n",
       "      <th>4</th>\n",
       "      <td>effin</td>\n",
       "      <td>fucking</td>\n",
       "      <td>[]</td>\n",
       "      <td>0</td>\n",
       "    </tr>\n",
       "    <tr>\n",
       "      <th>5</th>\n",
       "      <td>greenbay</td>\n",
       "      <td>greenbay</td>\n",
       "      <td>[]</td>\n",
       "      <td>0</td>\n",
       "    </tr>\n",
       "    <tr>\n",
       "      <th>6</th>\n",
       "      <td>nd</td>\n",
       "      <td>and</td>\n",
       "      <td>[2nd, gnd, nad, nd]</td>\n",
       "      <td>4</td>\n",
       "    </tr>\n",
       "    <tr>\n",
       "      <th>7</th>\n",
       "      <td>hve</td>\n",
       "      <td>have</td>\n",
       "      <td>[have, hfe, hive, hove, hv, hvy]</td>\n",
       "      <td>6</td>\n",
       "    </tr>\n",
       "    <tr>\n",
       "      <th>8</th>\n",
       "      <td>huyy</td>\n",
       "      <td>huyy</td>\n",
       "      <td>[hay, hey, hy, hoey, hoy, hu, huai, hue, huei,...</td>\n",
       "      <td>10</td>\n",
       "    </tr>\n",
       "    <tr>\n",
       "      <th>9</th>\n",
       "      <td>effin</td>\n",
       "      <td>fucking</td>\n",
       "      <td>[]</td>\n",
       "      <td>0</td>\n",
       "    </tr>\n",
       "  </tbody>\n",
       "</table>\n",
       "</div>"
      ],
      "text/plain": [
       "      token canonical                                         candidates  \\\n",
       "0       pix  pictures                                    [pax, pex, pix]   \n",
       "1   comming    coming      [caaming, coaming, coming, commaing, cumming]   \n",
       "2   tomoroe  tomorrow                                                 []   \n",
       "3      dang      dang                                             [dang]   \n",
       "4     effin   fucking                                                 []   \n",
       "5  greenbay  greenbay                                                 []   \n",
       "6        nd       and                                [2nd, gnd, nad, nd]   \n",
       "7       hve      have                   [have, hfe, hive, hove, hv, hvy]   \n",
       "8      huyy      huyy  [hay, hey, hy, hoey, hoy, hu, huai, hue, huei,...   \n",
       "9     effin   fucking                                                 []   \n",
       "\n",
       "   candidates_len  \n",
       "0               3  \n",
       "1               5  \n",
       "2               0  \n",
       "3               1  \n",
       "4               0  \n",
       "5               0  \n",
       "6               4  \n",
       "7               6  \n",
       "8              10  \n",
       "9               0  "
      ]
     },
     "execution_count": 259,
     "metadata": {},
     "output_type": "execute_result"
    }
   ],
   "source": [
    "levenshtein_metaphone[:10][['token','canonical','candidates','candidates_len']]"
   ]
  },
  {
   "cell_type": "code",
   "execution_count": 260,
   "metadata": {},
   "outputs": [],
   "source": [
    "# All Dataset analysis"
   ]
  },
  {
   "cell_type": "code",
   "execution_count": 262,
   "metadata": {},
   "outputs": [],
   "source": [
    "with open('output_new/all_results/levenshtein.json','r') as out:\n",
    "    for line in out:\n",
    "        data_4 = json.loads(line)\n",
    "        \n",
    "with open('output_new/all_results/levenshtein_soundex.json','r') as out:\n",
    "    for line in out:\n",
    "        data_5 = json.loads(line)\n",
    "        \n",
    "with open('output_new/all_results/levenshtein_metaphone.json','r') as out:\n",
    "    for line in out:\n",
    "        data_6 = json.loads(line)"
   ]
  },
  {
   "cell_type": "code",
   "execution_count": 264,
   "metadata": {},
   "outputs": [],
   "source": [
    "lev_all = pd.DataFrame(data_4)\n",
    "levsoundex_all = pd.DataFrame(data_5)\n",
    "levmetaphone_all = pd.DataFrame(data_6)"
   ]
  },
  {
   "cell_type": "code",
   "execution_count": 265,
   "metadata": {},
   "outputs": [
    {
     "data": {
      "text/html": [
       "<div>\n",
       "<style>\n",
       "    .dataframe thead tr:only-child th {\n",
       "        text-align: right;\n",
       "    }\n",
       "\n",
       "    .dataframe thead th {\n",
       "        text-align: left;\n",
       "    }\n",
       "\n",
       "    .dataframe tbody tr th {\n",
       "        vertical-align: top;\n",
       "    }\n",
       "</style>\n",
       "<table border=\"1\" class=\"dataframe\">\n",
       "  <thead>\n",
       "    <tr style=\"text-align: right;\">\n",
       "      <th></th>\n",
       "      <th>part</th>\n",
       "      <th>precision</th>\n",
       "      <th>recall</th>\n",
       "      <th>max</th>\n",
       "      <th>mean</th>\n",
       "    </tr>\n",
       "  </thead>\n",
       "  <tbody>\n",
       "    <tr>\n",
       "      <th>0</th>\n",
       "      <td>levenshtein</td>\n",
       "      <td>0.018404</td>\n",
       "      <td>0.787920</td>\n",
       "      <td>734</td>\n",
       "      <td>45.658263</td>\n",
       "    </tr>\n",
       "    <tr>\n",
       "      <th>1</th>\n",
       "      <td>levenshtein_soundex</td>\n",
       "      <td>0.162832</td>\n",
       "      <td>0.775942</td>\n",
       "      <td>51</td>\n",
       "      <td>5.193119</td>\n",
       "    </tr>\n",
       "    <tr>\n",
       "      <th>2</th>\n",
       "      <td>levenshtein_metaphone</td>\n",
       "      <td>0.192025</td>\n",
       "      <td>0.768926</td>\n",
       "      <td>39</td>\n",
       "      <td>4.387057</td>\n",
       "    </tr>\n",
       "  </tbody>\n",
       "</table>\n",
       "</div>"
      ],
      "text/plain": [
       "                    part  precision    recall  max       mean\n",
       "0            levenshtein   0.018404  0.787920  734  45.658263\n",
       "1    levenshtein_soundex   0.162832  0.775942   51   5.193119\n",
       "2  levenshtein_metaphone   0.192025  0.768926   39   4.387057"
      ]
     },
     "execution_count": 265,
     "metadata": {},
     "output_type": "execute_result"
    }
   ],
   "source": [
    "# combine analysis\n",
    "all_results = []\n",
    "all_results.append(compute_analysis(lev_all, \"levenshtein\"))\n",
    "all_results.append(compute_analysis(levsoundex_all, \"levenshtein_soundex\"))\n",
    "all_results.append(compute_analysis(levmetaphone_all, \"levenshtein_metaphone\"))\n",
    "\n",
    "all_results = pd.DataFrame(all_results)\n",
    "all_results[['part','precision','recall','max', 'mean']]"
   ]
  },
  {
   "cell_type": "code",
   "execution_count": 270,
   "metadata": {},
   "outputs": [
    {
     "data": {
      "text/plain": [
       "(6966, 6857, 6795)"
      ]
     },
     "execution_count": 270,
     "metadata": {},
     "output_type": "execute_result"
    }
   ],
   "source": [
    "true_1 = lev_all.query('is_correct==True').token.count()\n",
    "true_2 = levsoundex_all.query('is_correct==True').token.count()\n",
    "true_3 = levmetaphone_all.query('is_correct==True').token.count()\n",
    "\n",
    "\n",
    "true_1, true_2, true_3"
   ]
  },
  {
   "cell_type": "code",
   "execution_count": 272,
   "metadata": {},
   "outputs": [
    {
     "data": {
      "image/png": "[encoded data removed]",
      "text/plain": [
       "<matplotlib.figure.Figure at 0x10bf0d8d0>"
      ]
     },
     "metadata": {},
     "output_type": "display_data"
    }
   ],
   "source": [
    "all_rects = all_results[['part','precision', 'recall']].plot(kind='barh', legend=True, figsize=(8, 5));\n",
    "all_rects.set_yticklabels(('Levenshtein','Levenshtein_Soundex','Levenshtein_Metaphone'))\n",
    "plt.show()"
   ]
  },
  {
   "cell_type": "code",
   "execution_count": null,
   "metadata": {
    "collapsed": true
   },
   "outputs": [],
   "source": []
  }
 ],
 "metadata": {
  "kernelspec": {
   "display_name": "Python 2",
   "language": "python",
   "name": "python2"
  },
  "language_info": {
   "codemirror_mode": {
    "name": "ipython",
    "version": 2
   },
   "file_extension": ".py",
   "mimetype": "text/x-python",
   "name": "python",
   "nbconvert_exporter": "python",
   "pygments_lexer": "ipython2",
   "version": "2.7.13"
  }
 },
 "nbformat": 4,
 "nbformat_minor": 2
}
